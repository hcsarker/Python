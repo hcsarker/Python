{
 "cells": [
  {
   "cell_type": "code",
   "execution_count": 23,
   "metadata": {
    "executionInfo": {
     "elapsed": 8,
     "status": "ok",
     "timestamp": 1753378239365,
     "user": {
      "displayName": "Hridoy Chandra Sarker",
      "userId": "02711210499603700436"
     },
     "user_tz": -360
    },
    "id": "ogFf4fvYoX1Y"
   },
   "outputs": [],
   "source": [
    "from csv import reader\n",
    "with open('content/AppleStore.csv', 'r') as data:\n",
    "  apps_data = reader(data)\n",
    "\n",
    "  # convert into list\n",
    "  apps_data = list(apps_data)"
   ]
  },
  {
   "cell_type": "code",
   "execution_count": 24,
   "metadata": {
    "colab": {
     "base_uri": "https://localhost:8080/"
    },
    "executionInfo": {
     "elapsed": 446,
     "status": "ok",
     "timestamp": 1753378796416,
     "user": {
      "displayName": "Hridoy Chandra Sarker",
      "userId": "02711210499603700436"
     },
     "user_tz": -360
    },
    "id": "HyZzcaFLfNFH",
    "outputId": "834f202b-69fe-44c8-c303-4056957587da"
   },
   "outputs": [
    {
     "name": "stdout",
     "output_type": "stream",
     "text": [
      "[['id', 'track_name', 'size_bytes', 'currency', 'price', 'rating_count_tot', 'rating_count_ver', 'user_rating', 'user_rating_ver', 'ver', 'cont_rating', 'prime_genre', 'sup_devices.num', 'ipadSc_urls.num', 'lang.num', 'vpp_lic'], ['284882215', 'Facebook', '389879808', 'USD', '0.0', '2974676', '212', '3.5', '3.5', '95.0', '4+', 'Social Networking', '37', '1', '29', '1'], ['389801252', 'Instagram', '113954816', 'USD', '0.0', '2161558', '1289', '4.5', '4.0', '10.23', '12+', 'Photo & Video', '37', '0', '29', '1'], ['529479190', 'Clash of Clans', '116476928', 'USD', '0.0', '2130805', '579', '4.5', '4.5', '9.24.12', '9+', 'Games', '38', '5', '18', '1']]\n"
     ]
    }
   ],
   "source": [
    "print(apps_data[:4])\n"
   ]
  },
  {
   "cell_type": "code",
   "execution_count": 25,
   "metadata": {
    "colab": {
     "base_uri": "https://localhost:8080/",
     "height": 487
    },
    "executionInfo": {
     "elapsed": 197,
     "status": "ok",
     "timestamp": 1753379309238,
     "user": {
      "displayName": "Hridoy Chandra Sarker",
      "userId": "02711210499603700436"
     },
     "user_tz": -360
    },
    "id": "l9-Ye9sBhXbO",
    "outputId": "0d7f7b58-4b58-406c-d3a2-c0db6cca122d"
   },
   "outputs": [
    {
     "data": {
      "text/html": [
       "<div>\n",
       "<style scoped>\n",
       "    .dataframe tbody tr th:only-of-type {\n",
       "        vertical-align: middle;\n",
       "    }\n",
       "\n",
       "    .dataframe tbody tr th {\n",
       "        vertical-align: top;\n",
       "    }\n",
       "\n",
       "    .dataframe thead th {\n",
       "        text-align: right;\n",
       "    }\n",
       "</style>\n",
       "<table border=\"1\" class=\"dataframe\">\n",
       "  <thead>\n",
       "    <tr style=\"text-align: right;\">\n",
       "      <th></th>\n",
       "      <th>id</th>\n",
       "      <th>track_name</th>\n",
       "      <th>size_bytes</th>\n",
       "      <th>currency</th>\n",
       "      <th>price</th>\n",
       "      <th>rating_count_tot</th>\n",
       "      <th>rating_count_ver</th>\n",
       "      <th>user_rating</th>\n",
       "      <th>user_rating_ver</th>\n",
       "      <th>ver</th>\n",
       "      <th>cont_rating</th>\n",
       "      <th>prime_genre</th>\n",
       "      <th>sup_devices.num</th>\n",
       "      <th>ipadSc_urls.num</th>\n",
       "      <th>lang.num</th>\n",
       "      <th>vpp_lic</th>\n",
       "    </tr>\n",
       "  </thead>\n",
       "  <tbody>\n",
       "    <tr>\n",
       "      <th>0</th>\n",
       "      <td>284882215</td>\n",
       "      <td>Facebook</td>\n",
       "      <td>389879808</td>\n",
       "      <td>USD</td>\n",
       "      <td>0.0</td>\n",
       "      <td>2974676</td>\n",
       "      <td>212</td>\n",
       "      <td>3.5</td>\n",
       "      <td>3.5</td>\n",
       "      <td>95.0</td>\n",
       "      <td>4+</td>\n",
       "      <td>Social Networking</td>\n",
       "      <td>37</td>\n",
       "      <td>1</td>\n",
       "      <td>29</td>\n",
       "      <td>1</td>\n",
       "    </tr>\n",
       "    <tr>\n",
       "      <th>1</th>\n",
       "      <td>389801252</td>\n",
       "      <td>Instagram</td>\n",
       "      <td>113954816</td>\n",
       "      <td>USD</td>\n",
       "      <td>0.0</td>\n",
       "      <td>2161558</td>\n",
       "      <td>1289</td>\n",
       "      <td>4.5</td>\n",
       "      <td>4.0</td>\n",
       "      <td>10.23</td>\n",
       "      <td>12+</td>\n",
       "      <td>Photo &amp; Video</td>\n",
       "      <td>37</td>\n",
       "      <td>0</td>\n",
       "      <td>29</td>\n",
       "      <td>1</td>\n",
       "    </tr>\n",
       "    <tr>\n",
       "      <th>2</th>\n",
       "      <td>529479190</td>\n",
       "      <td>Clash of Clans</td>\n",
       "      <td>116476928</td>\n",
       "      <td>USD</td>\n",
       "      <td>0.0</td>\n",
       "      <td>2130805</td>\n",
       "      <td>579</td>\n",
       "      <td>4.5</td>\n",
       "      <td>4.5</td>\n",
       "      <td>9.24.12</td>\n",
       "      <td>9+</td>\n",
       "      <td>Games</td>\n",
       "      <td>38</td>\n",
       "      <td>5</td>\n",
       "      <td>18</td>\n",
       "      <td>1</td>\n",
       "    </tr>\n",
       "    <tr>\n",
       "      <th>3</th>\n",
       "      <td>420009108</td>\n",
       "      <td>Temple Run</td>\n",
       "      <td>65921024</td>\n",
       "      <td>USD</td>\n",
       "      <td>0.0</td>\n",
       "      <td>1724546</td>\n",
       "      <td>3842</td>\n",
       "      <td>4.5</td>\n",
       "      <td>4.0</td>\n",
       "      <td>1.6.2</td>\n",
       "      <td>9+</td>\n",
       "      <td>Games</td>\n",
       "      <td>40</td>\n",
       "      <td>5</td>\n",
       "      <td>1</td>\n",
       "      <td>1</td>\n",
       "    </tr>\n",
       "    <tr>\n",
       "      <th>4</th>\n",
       "      <td>284035177</td>\n",
       "      <td>Pandora - Music &amp; Radio</td>\n",
       "      <td>130242560</td>\n",
       "      <td>USD</td>\n",
       "      <td>0.0</td>\n",
       "      <td>1126879</td>\n",
       "      <td>3594</td>\n",
       "      <td>4.0</td>\n",
       "      <td>4.5</td>\n",
       "      <td>8.4.1</td>\n",
       "      <td>12+</td>\n",
       "      <td>Music</td>\n",
       "      <td>37</td>\n",
       "      <td>4</td>\n",
       "      <td>1</td>\n",
       "      <td>1</td>\n",
       "    </tr>\n",
       "    <tr>\n",
       "      <th>5</th>\n",
       "      <td>429047995</td>\n",
       "      <td>Pinterest</td>\n",
       "      <td>74778624</td>\n",
       "      <td>USD</td>\n",
       "      <td>0.0</td>\n",
       "      <td>1061624</td>\n",
       "      <td>1814</td>\n",
       "      <td>4.5</td>\n",
       "      <td>4.0</td>\n",
       "      <td>6.26</td>\n",
       "      <td>12+</td>\n",
       "      <td>Social Networking</td>\n",
       "      <td>37</td>\n",
       "      <td>5</td>\n",
       "      <td>27</td>\n",
       "      <td>1</td>\n",
       "    </tr>\n",
       "    <tr>\n",
       "      <th>6</th>\n",
       "      <td>282935706</td>\n",
       "      <td>Bible</td>\n",
       "      <td>92774400</td>\n",
       "      <td>USD</td>\n",
       "      <td>0.0</td>\n",
       "      <td>985920</td>\n",
       "      <td>5320</td>\n",
       "      <td>4.5</td>\n",
       "      <td>5.0</td>\n",
       "      <td>7.5.1</td>\n",
       "      <td>4+</td>\n",
       "      <td>Reference</td>\n",
       "      <td>37</td>\n",
       "      <td>5</td>\n",
       "      <td>45</td>\n",
       "      <td>1</td>\n",
       "    </tr>\n",
       "    <tr>\n",
       "      <th>7</th>\n",
       "      <td>553834731</td>\n",
       "      <td>Candy Crush Saga</td>\n",
       "      <td>222846976</td>\n",
       "      <td>USD</td>\n",
       "      <td>0.0</td>\n",
       "      <td>961794</td>\n",
       "      <td>2453</td>\n",
       "      <td>4.5</td>\n",
       "      <td>4.5</td>\n",
       "      <td>1.101.0</td>\n",
       "      <td>4+</td>\n",
       "      <td>Games</td>\n",
       "      <td>43</td>\n",
       "      <td>5</td>\n",
       "      <td>24</td>\n",
       "      <td>1</td>\n",
       "    </tr>\n",
       "    <tr>\n",
       "      <th>8</th>\n",
       "      <td>324684580</td>\n",
       "      <td>Spotify Music</td>\n",
       "      <td>132510720</td>\n",
       "      <td>USD</td>\n",
       "      <td>0.0</td>\n",
       "      <td>878563</td>\n",
       "      <td>8253</td>\n",
       "      <td>4.5</td>\n",
       "      <td>4.5</td>\n",
       "      <td>8.4.3</td>\n",
       "      <td>12+</td>\n",
       "      <td>Music</td>\n",
       "      <td>37</td>\n",
       "      <td>5</td>\n",
       "      <td>18</td>\n",
       "      <td>1</td>\n",
       "    </tr>\n",
       "    <tr>\n",
       "      <th>9</th>\n",
       "      <td>343200656</td>\n",
       "      <td>Angry Birds</td>\n",
       "      <td>175966208</td>\n",
       "      <td>USD</td>\n",
       "      <td>0.0</td>\n",
       "      <td>824451</td>\n",
       "      <td>107</td>\n",
       "      <td>4.5</td>\n",
       "      <td>3.0</td>\n",
       "      <td>7.4.0</td>\n",
       "      <td>4+</td>\n",
       "      <td>Games</td>\n",
       "      <td>38</td>\n",
       "      <td>0</td>\n",
       "      <td>10</td>\n",
       "      <td>1</td>\n",
       "    </tr>\n",
       "  </tbody>\n",
       "</table>\n",
       "</div>"
      ],
      "text/plain": [
       "          id               track_name  size_bytes currency  price  \\\n",
       "0  284882215                 Facebook   389879808      USD    0.0   \n",
       "1  389801252                Instagram   113954816      USD    0.0   \n",
       "2  529479190           Clash of Clans   116476928      USD    0.0   \n",
       "3  420009108               Temple Run    65921024      USD    0.0   \n",
       "4  284035177  Pandora - Music & Radio   130242560      USD    0.0   \n",
       "5  429047995                Pinterest    74778624      USD    0.0   \n",
       "6  282935706                    Bible    92774400      USD    0.0   \n",
       "7  553834731         Candy Crush Saga   222846976      USD    0.0   \n",
       "8  324684580            Spotify Music   132510720      USD    0.0   \n",
       "9  343200656              Angry Birds   175966208      USD    0.0   \n",
       "\n",
       "   rating_count_tot  rating_count_ver  user_rating  user_rating_ver      ver  \\\n",
       "0           2974676               212          3.5              3.5     95.0   \n",
       "1           2161558              1289          4.5              4.0    10.23   \n",
       "2           2130805               579          4.5              4.5  9.24.12   \n",
       "3           1724546              3842          4.5              4.0    1.6.2   \n",
       "4           1126879              3594          4.0              4.5    8.4.1   \n",
       "5           1061624              1814          4.5              4.0     6.26   \n",
       "6            985920              5320          4.5              5.0    7.5.1   \n",
       "7            961794              2453          4.5              4.5  1.101.0   \n",
       "8            878563              8253          4.5              4.5    8.4.3   \n",
       "9            824451               107          4.5              3.0    7.4.0   \n",
       "\n",
       "  cont_rating        prime_genre  sup_devices.num  ipadSc_urls.num  lang.num  \\\n",
       "0          4+  Social Networking               37                1        29   \n",
       "1         12+      Photo & Video               37                0        29   \n",
       "2          9+              Games               38                5        18   \n",
       "3          9+              Games               40                5         1   \n",
       "4         12+              Music               37                4         1   \n",
       "5         12+  Social Networking               37                5        27   \n",
       "6          4+          Reference               37                5        45   \n",
       "7          4+              Games               43                5        24   \n",
       "8         12+              Music               37                5        18   \n",
       "9          4+              Games               38                0        10   \n",
       "\n",
       "   vpp_lic  \n",
       "0        1  \n",
       "1        1  \n",
       "2        1  \n",
       "3        1  \n",
       "4        1  \n",
       "5        1  \n",
       "6        1  \n",
       "7        1  \n",
       "8        1  \n",
       "9        1  "
      ]
     },
     "execution_count": 25,
     "metadata": {},
     "output_type": "execute_result"
    }
   ],
   "source": [
    "import pandas as pd\n",
    "df = pd.read_csv('content/AppleStore.csv')\n",
    "df.head(10)"
   ]
  },
  {
   "cell_type": "code",
   "execution_count": 26,
   "metadata": {
    "colab": {
     "base_uri": "https://localhost:8080/"
    },
    "executionInfo": {
     "elapsed": 32,
     "status": "ok",
     "timestamp": 1753379166582,
     "user": {
      "displayName": "Hridoy Chandra Sarker",
      "userId": "02711210499603700436"
     },
     "user_tz": -360
    },
    "id": "hI1EW4Y6iBBZ",
    "outputId": "82fed650-24bc-471d-8085-32acdde7745a"
   },
   "outputs": [
    {
     "data": {
      "text/plain": [
       "['575658129',\n",
       " 'Injustice: Gods Among Us',\n",
       " '1829599232',\n",
       " 'USD',\n",
       " '0.0',\n",
       " '612532',\n",
       " '410',\n",
       " '4.5',\n",
       " '4.5',\n",
       " '2.15.1',\n",
       " '12+',\n",
       " 'Games',\n",
       " '39',\n",
       " '5',\n",
       " '13',\n",
       " '1']"
      ]
     },
     "execution_count": 26,
     "metadata": {},
     "output_type": "execute_result"
    }
   ],
   "source": [
    "apps_data[16]"
   ]
  },
  {
   "cell_type": "markdown",
   "metadata": {
    "id": "F7nVPJFbpacX"
   },
   "source": [
    "# Dictionary | Frequency Table"
   ]
  },
  {
   "cell_type": "code",
   "execution_count": 27,
   "metadata": {
    "id": "hQx7dsvMqyay"
   },
   "outputs": [],
   "source": [
    "# key:value\n",
    "a = {'country': 'Bangladesh', 'population': '18Cr', 'city':64}"
   ]
  },
  {
   "cell_type": "code",
   "execution_count": 28,
   "metadata": {
    "colab": {
     "base_uri": "https://localhost:8080/",
     "height": 38
    },
    "executionInfo": {
     "elapsed": 586,
     "status": "ok",
     "timestamp": 1751385676089,
     "user": {
      "displayName": "Shahriar Kabir",
      "userId": "14978139010002335779"
     },
     "user_tz": -360
    },
    "id": "SCweCCQXpZPe",
    "outputId": "a44bdf2c-76ac-4017-b3be-dff4a5f9e3f4"
   },
   "outputs": [
    {
     "data": {
      "text/plain": [
       "'Bangladesh'"
      ]
     },
     "execution_count": 28,
     "metadata": {},
     "output_type": "execute_result"
    }
   ],
   "source": [
    "a['country']"
   ]
  },
  {
   "cell_type": "code",
   "execution_count": 29,
   "metadata": {
    "colab": {
     "base_uri": "https://localhost:8080/"
    },
    "executionInfo": {
     "elapsed": 22,
     "status": "ok",
     "timestamp": 1751385706461,
     "user": {
      "displayName": "Shahriar Kabir",
      "userId": "14978139010002335779"
     },
     "user_tz": -360
    },
    "id": "A3LhjaFApmDI",
    "outputId": "7c0d6799-b6d7-41d2-db4f-6ccba06439a2"
   },
   "outputs": [
    {
     "data": {
      "text/plain": [
       "dict"
      ]
     },
     "execution_count": 29,
     "metadata": {},
     "output_type": "execute_result"
    }
   ],
   "source": [
    "type(a)"
   ]
  },
  {
   "cell_type": "code",
   "execution_count": 30,
   "metadata": {
    "id": "E-BV6Zl7pmV0"
   },
   "outputs": [],
   "source": [
    "a[4] = \"Four\""
   ]
  },
  {
   "cell_type": "code",
   "execution_count": 31,
   "metadata": {
    "id": "ULbZhck706Sd"
   },
   "outputs": [],
   "source": [
    "a['country'] = \"BANGLADESH\""
   ]
  },
  {
   "cell_type": "code",
   "execution_count": 32,
   "metadata": {
    "colab": {
     "base_uri": "https://localhost:8080/"
    },
    "executionInfo": {
     "elapsed": 17,
     "status": "ok",
     "timestamp": 1751385770294,
     "user": {
      "displayName": "Shahriar Kabir",
      "userId": "14978139010002335779"
     },
     "user_tz": -360
    },
    "id": "IouUb05ZudVS",
    "outputId": "29f93b37-a7a4-4630-b9f4-ea9587347b86"
   },
   "outputs": [
    {
     "name": "stdout",
     "output_type": "stream",
     "text": [
      "{'country': 'BANGLADESH', 'population': '18Cr', 'city': 64, 4: 'Four'}\n"
     ]
    }
   ],
   "source": [
    "print(a)"
   ]
  },
  {
   "cell_type": "code",
   "execution_count": 33,
   "metadata": {
    "colab": {
     "base_uri": "https://localhost:8080/",
     "height": 38
    },
    "executionInfo": {
     "elapsed": 42,
     "status": "ok",
     "timestamp": 1751385870747,
     "user": {
      "displayName": "Shahriar Kabir",
      "userId": "14978139010002335779"
     },
     "user_tz": -360
    },
    "id": "-gH4PxvVrNQE",
    "outputId": "08f23203-f8cf-42e7-fd07-499f2f9d9567"
   },
   "outputs": [
    {
     "data": {
      "text/plain": [
       "'Four'"
      ]
     },
     "execution_count": 33,
     "metadata": {},
     "output_type": "execute_result"
    }
   ],
   "source": [
    "a.pop(4)"
   ]
  },
  {
   "cell_type": "code",
   "execution_count": 34,
   "metadata": {
    "colab": {
     "base_uri": "https://localhost:8080/"
    },
    "executionInfo": {
     "elapsed": 31,
     "status": "ok",
     "timestamp": 1751385879504,
     "user": {
      "displayName": "Shahriar Kabir",
      "userId": "14978139010002335779"
     },
     "user_tz": -360
    },
    "id": "1yRdUUQgrTfU",
    "outputId": "2dff8cb4-d92a-48c2-8f09-a586629f4da5"
   },
   "outputs": [
    {
     "data": {
      "text/plain": [
       "{'country': 'BANGLADESH', 'population': '18Cr', 'city': 64}"
      ]
     },
     "execution_count": 34,
     "metadata": {},
     "output_type": "execute_result"
    }
   ],
   "source": [
    "a"
   ]
  },
  {
   "cell_type": "code",
   "execution_count": 35,
   "metadata": {
    "colab": {
     "base_uri": "https://localhost:8080/"
    },
    "executionInfo": {
     "elapsed": 47,
     "status": "ok",
     "timestamp": 1751387373008,
     "user": {
      "displayName": "Shahriar Kabir",
      "userId": "14978139010002335779"
     },
     "user_tz": -360
    },
    "id": "apSVm5qxrUat",
    "outputId": "f70f57a5-d868-4ade-abce-fb3e7874ce64"
   },
   "outputs": [
    {
     "name": "stdout",
     "output_type": "stream",
     "text": [
      "No\n"
     ]
    }
   ],
   "source": [
    "# conditional statement, dict, membership operator\n",
    "\n",
    "if 'Continent' in a:\n",
    "  print(\"Yes\")\n",
    "else:\n",
    "  print(\"No\")"
   ]
  },
  {
   "cell_type": "code",
   "execution_count": 36,
   "metadata": {
    "colab": {
     "base_uri": "https://localhost:8080/",
     "height": 38
    },
    "executionInfo": {
     "elapsed": 55,
     "status": "ok",
     "timestamp": 1751386143256,
     "user": {
      "displayName": "Shahriar Kabir",
      "userId": "14978139010002335779"
     },
     "user_tz": -360
    },
    "id": "Y6plhRfCvNSD",
    "outputId": "23c5e72e-e00f-4825-de3d-a32884ecc1a1"
   },
   "outputs": [
    {
     "data": {
      "text/plain": [
       "'Social Networking'"
      ]
     },
     "execution_count": 36,
     "metadata": {},
     "output_type": "execute_result"
    }
   ],
   "source": [
    "apps_data[1][11]"
   ]
  },
  {
   "cell_type": "code",
   "execution_count": 37,
   "metadata": {
    "id": "N3Bq0BvRvsBy"
   },
   "outputs": [],
   "source": [
    "cout_Social_Networking = 0\n",
    "count_Games = 0\n",
    "count_Music = 0\n",
    "count_Sports = 0\n",
    "count_Entertainment = 0\n",
    "\n",
    "for app in apps_data:\n",
    "  category = app[11]\n",
    "\n",
    "\n",
    "\n",
    "  if category == 'Social Networking':\n",
    "    cout_Social_Networking = cout_Social_Networking + 1\n",
    "\n",
    "  elif category == \"Games\":\n",
    "    count_Games = count_Games +1\n",
    "\n",
    "  elif category == 'Music':\n",
    "    count_Music = count_Music + 1\n",
    "  elif category == 'Sports':\n",
    "    count_Sports = count_Sports + 1\n",
    "\n",
    "  elif category == 'Entertainment':\n",
    "    count_Entertainment = count_Entertainment + 1"
   ]
  },
  {
   "cell_type": "code",
   "execution_count": 38,
   "metadata": {
    "colab": {
     "base_uri": "https://localhost:8080/"
    },
    "executionInfo": {
     "elapsed": 103,
     "status": "ok",
     "timestamp": 1751386997178,
     "user": {
      "displayName": "Shahriar Kabir",
      "userId": "14978139010002335779"
     },
     "user_tz": -360
    },
    "id": "s3z384EHzBdl",
    "outputId": "695656f1-64cd-47ef-a325-cba15f837bee"
   },
   "outputs": [
    {
     "name": "stdout",
     "output_type": "stream",
     "text": [
      "167\n",
      "3862\n",
      "138\n",
      "114\n",
      "535\n"
     ]
    }
   ],
   "source": [
    "print(cout_Social_Networking)\n",
    "print(count_Games)\n",
    "print(count_Music)\n",
    "print(count_Sports)\n",
    "print(count_Entertainment)"
   ]
  },
  {
   "cell_type": "code",
   "execution_count": 39,
   "metadata": {
    "id": "TqLi-vhp0FH_"
   },
   "outputs": [],
   "source": [
    "#\n",
    "count_app_dict = {}   #2 \"Social Networking\": 2\n",
    "\n",
    "for app in apps_data[1:]:\n",
    "  category = app[11]     # Social Networking\n",
    "\n",
    "  if category in count_app_dict:   #False\n",
    "    count_app_dict[category] = count_app_dict[category] + 1     #existing value\n",
    "  else:\n",
    "    count_app_dict[category] = 1                         # new key:value"
   ]
  },
  {
   "cell_type": "code",
   "execution_count": 40,
   "metadata": {
    "colab": {
     "base_uri": "https://localhost:8080/"
    },
    "executionInfo": {
     "elapsed": 23,
     "status": "ok",
     "timestamp": 1751387805445,
     "user": {
      "displayName": "Shahriar Kabir",
      "userId": "14978139010002335779"
     },
     "user_tz": -360
    },
    "id": "grL0O6t12QEH",
    "outputId": "2195ca78-82ae-4afe-8f83-310728bc72ff"
   },
   "outputs": [
    {
     "name": "stdout",
     "output_type": "stream",
     "text": [
      "{'Social Networking': 167, 'Photo & Video': 349, 'Games': 3862, 'Music': 138, 'Reference': 64, 'Health & Fitness': 180, 'Weather': 72, 'Utilities': 248, 'Travel': 81, 'Shopping': 122, 'News': 75, 'Navigation': 46, 'Lifestyle': 144, 'Entertainment': 535, 'Food & Drink': 63, 'Sports': 114, 'Book': 112, 'Finance': 104, 'Education': 453, 'Productivity': 178, 'Business': 57, 'Catalogs': 10, 'Medical': 23}\n"
     ]
    }
   ],
   "source": [
    "print(count_app_dict)"
   ]
  },
  {
   "cell_type": "code",
   "execution_count": 41,
   "metadata": {
    "colab": {
     "base_uri": "https://localhost:8080/"
    },
    "executionInfo": {
     "elapsed": 83,
     "status": "ok",
     "timestamp": 1751472998162,
     "user": {
      "displayName": "Shahriar Kabir",
      "userId": "14978139010002335779"
     },
     "user_tz": -360
    },
    "id": "d_gNoN9WwQgl",
    "outputId": "ea0a409a-ca20-4e6e-b41a-3ed31f3d524f"
   },
   "outputs": [
    {
     "data": {
      "text/plain": [
       "array(['Social Networking', 'Photo & Video', 'Games', 'Music',\n",
       "       'Reference', 'Health & Fitness', 'Weather', 'Utilities', 'Travel',\n",
       "       'Shopping', 'News', 'Navigation', 'Lifestyle', 'Entertainment',\n",
       "       'Food & Drink', 'Sports', 'Book', 'Finance', 'Education',\n",
       "       'Productivity', 'Business', 'Catalogs', 'Medical'], dtype=object)"
      ]
     },
     "execution_count": 41,
     "metadata": {},
     "output_type": "execute_result"
    }
   ],
   "source": [
    "import pandas as pd\n",
    "df = pd.read_csv('content/AppleStore.csv')\n",
    "df['prime_genre'].unique()"
   ]
  },
  {
   "cell_type": "code",
   "execution_count": 42,
   "metadata": {
    "colab": {
     "base_uri": "https://localhost:8080/",
     "height": 836
    },
    "executionInfo": {
     "elapsed": 50,
     "status": "ok",
     "timestamp": 1751387035523,
     "user": {
      "displayName": "Shahriar Kabir",
      "userId": "14978139010002335779"
     },
     "user_tz": -360
    },
    "id": "xUWcOjjDwZNq",
    "outputId": "76001046-33b8-46fd-dc02-c72346331987"
   },
   "outputs": [
    {
     "data": {
      "text/plain": [
       "prime_genre\n",
       "Games                3862\n",
       "Entertainment         535\n",
       "Education             453\n",
       "Photo & Video         349\n",
       "Utilities             248\n",
       "Health & Fitness      180\n",
       "Productivity          178\n",
       "Social Networking     167\n",
       "Lifestyle             144\n",
       "Music                 138\n",
       "Shopping              122\n",
       "Sports                114\n",
       "Book                  112\n",
       "Finance               104\n",
       "Travel                 81\n",
       "News                   75\n",
       "Weather                72\n",
       "Reference              64\n",
       "Food & Drink           63\n",
       "Business               57\n",
       "Navigation             46\n",
       "Medical                23\n",
       "Catalogs               10\n",
       "Name: count, dtype: int64"
      ]
     },
     "execution_count": 42,
     "metadata": {},
     "output_type": "execute_result"
    }
   ],
   "source": [
    "df['prime_genre'].value_counts()"
   ]
  },
  {
   "cell_type": "markdown",
   "metadata": {
    "id": "CGn0_BvV4LZU"
   },
   "source": [
    "# Set"
   ]
  },
  {
   "cell_type": "code",
   "execution_count": 43,
   "metadata": {
    "colab": {
     "base_uri": "https://localhost:8080/"
    },
    "executionInfo": {
     "elapsed": 90,
     "status": "ok",
     "timestamp": 1751472725649,
     "user": {
      "displayName": "Shahriar Kabir",
      "userId": "14978139010002335779"
     },
     "user_tz": -360
    },
    "id": "_jWsb9-K5Hbv",
    "outputId": "1ad80a16-eea8-4ba8-db7b-a18ff9f5fc63"
   },
   "outputs": [
    {
     "name": "stdout",
     "output_type": "stream",
     "text": [
      "{False, True, 34.3, 11, 'banana', 'apple'}\n"
     ]
    }
   ],
   "source": [
    "a = {\"apple\", \"banana\", 11, 34.3, False, True}\n",
    "print(a)"
   ]
  },
  {
   "cell_type": "code",
   "execution_count": 44,
   "metadata": {
    "colab": {
     "base_uri": "https://localhost:8080/"
    },
    "executionInfo": {
     "elapsed": 57,
     "status": "ok",
     "timestamp": 1751472740747,
     "user": {
      "displayName": "Shahriar Kabir",
      "userId": "14978139010002335779"
     },
     "user_tz": -360
    },
    "id": "2WtcvmCl6NxD",
    "outputId": "63d5f305-cb1a-4691-fdbf-679c3a0fa74b"
   },
   "outputs": [
    {
     "name": "stdout",
     "output_type": "stream",
     "text": [
      "<class 'set'>\n"
     ]
    }
   ],
   "source": [
    "print(type(a))"
   ]
  },
  {
   "cell_type": "code",
   "execution_count": 45,
   "metadata": {
    "colab": {
     "base_uri": "https://localhost:8080/"
    },
    "executionInfo": {
     "elapsed": 41,
     "status": "ok",
     "timestamp": 1751472796132,
     "user": {
      "displayName": "Shahriar Kabir",
      "userId": "14978139010002335779"
     },
     "user_tz": -360
    },
    "id": "Bs0crFuD6QKK",
    "outputId": "98c4b4b7-8c42-41e1-a9ec-da114d0c5db1"
   },
   "outputs": [
    {
     "name": "stdout",
     "output_type": "stream",
     "text": [
      "{False, True, 34.3, 11, 'banana', 'apple'}\n"
     ]
    }
   ],
   "source": [
    "b = {\"apple\", \"banana\", 11, 34.3, False, True, \"apple\"}\n",
    "print(b)"
   ]
  },
  {
   "cell_type": "code",
   "execution_count": 46,
   "metadata": {
    "id": "jLDdWA_E6fAQ"
   },
   "outputs": [],
   "source": [
    "# value add in set\n",
    "b.add(\"apple\")"
   ]
  },
  {
   "cell_type": "code",
   "execution_count": 47,
   "metadata": {
    "colab": {
     "base_uri": "https://localhost:8080/"
    },
    "executionInfo": {
     "elapsed": 111,
     "status": "ok",
     "timestamp": 1751472917734,
     "user": {
      "displayName": "Shahriar Kabir",
      "userId": "14978139010002335779"
     },
     "user_tz": -360
    },
    "id": "kI50pvvC68FP",
    "outputId": "60979037-df84-4c6f-80a1-c075700907b2"
   },
   "outputs": [
    {
     "name": "stdout",
     "output_type": "stream",
     "text": [
      "{False, True, 34.3, 11, 'banana', 'apple'}\n"
     ]
    }
   ],
   "source": [
    "print(b)"
   ]
  },
  {
   "cell_type": "code",
   "execution_count": 48,
   "metadata": {
    "colab": {
     "base_uri": "https://localhost:8080/"
    },
    "executionInfo": {
     "elapsed": 44,
     "status": "ok",
     "timestamp": 1751472938779,
     "user": {
      "displayName": "Shahriar Kabir",
      "userId": "14978139010002335779"
     },
     "user_tz": -360
    },
    "id": "ILo7PqfP68oL",
    "outputId": "df5cbca2-361f-40f4-a511-a81c58505e10"
   },
   "outputs": [
    {
     "data": {
      "text/plain": [
       "False"
      ]
     },
     "execution_count": 48,
     "metadata": {},
     "output_type": "execute_result"
    }
   ],
   "source": [
    "# delete items from set\n",
    "b.pop()"
   ]
  },
  {
   "cell_type": "code",
   "execution_count": 49,
   "metadata": {
    "colab": {
     "base_uri": "https://localhost:8080/"
    },
    "executionInfo": {
     "elapsed": 46,
     "status": "ok",
     "timestamp": 1751472962186,
     "user": {
      "displayName": "Shahriar Kabir",
      "userId": "14978139010002335779"
     },
     "user_tz": -360
    },
    "id": "JQlYiStu7B00",
    "outputId": "1b48a0bc-aa7b-4e7c-9fa8-16f4e7165458"
   },
   "outputs": [
    {
     "name": "stdout",
     "output_type": "stream",
     "text": [
      "{True, 34.3, 11, 'banana', 'apple'}\n"
     ]
    }
   ],
   "source": [
    "print(b)"
   ]
  },
  {
   "cell_type": "code",
   "execution_count": 50,
   "metadata": {
    "colab": {
     "base_uri": "https://localhost:8080/",
     "height": 296
    },
    "executionInfo": {
     "elapsed": 150,
     "status": "ok",
     "timestamp": 1753382321966,
     "user": {
      "displayName": "Hridoy Chandra Sarker",
      "userId": "02711210499603700436"
     },
     "user_tz": -360
    },
    "id": "Cv9hrjWo7Hf6",
    "outputId": "bca5264f-0145-4000-8732-92dc147fbe36"
   },
   "outputs": [
    {
     "data": {
      "text/html": [
       "<div>\n",
       "<style scoped>\n",
       "    .dataframe tbody tr th:only-of-type {\n",
       "        vertical-align: middle;\n",
       "    }\n",
       "\n",
       "    .dataframe tbody tr th {\n",
       "        vertical-align: top;\n",
       "    }\n",
       "\n",
       "    .dataframe thead th {\n",
       "        text-align: right;\n",
       "    }\n",
       "</style>\n",
       "<table border=\"1\" class=\"dataframe\">\n",
       "  <thead>\n",
       "    <tr style=\"text-align: right;\">\n",
       "      <th></th>\n",
       "      <th>id</th>\n",
       "      <th>track_name</th>\n",
       "      <th>size_bytes</th>\n",
       "      <th>currency</th>\n",
       "      <th>price</th>\n",
       "      <th>rating_count_tot</th>\n",
       "      <th>rating_count_ver</th>\n",
       "      <th>user_rating</th>\n",
       "      <th>user_rating_ver</th>\n",
       "      <th>ver</th>\n",
       "      <th>cont_rating</th>\n",
       "      <th>prime_genre</th>\n",
       "      <th>sup_devices.num</th>\n",
       "      <th>ipadSc_urls.num</th>\n",
       "      <th>lang.num</th>\n",
       "      <th>vpp_lic</th>\n",
       "    </tr>\n",
       "  </thead>\n",
       "  <tbody>\n",
       "    <tr>\n",
       "      <th>0</th>\n",
       "      <td>284882215</td>\n",
       "      <td>Facebook</td>\n",
       "      <td>389879808</td>\n",
       "      <td>USD</td>\n",
       "      <td>0.0</td>\n",
       "      <td>2974676</td>\n",
       "      <td>212</td>\n",
       "      <td>3.5</td>\n",
       "      <td>3.5</td>\n",
       "      <td>95.0</td>\n",
       "      <td>4+</td>\n",
       "      <td>Social Networking</td>\n",
       "      <td>37</td>\n",
       "      <td>1</td>\n",
       "      <td>29</td>\n",
       "      <td>1</td>\n",
       "    </tr>\n",
       "    <tr>\n",
       "      <th>1</th>\n",
       "      <td>389801252</td>\n",
       "      <td>Instagram</td>\n",
       "      <td>113954816</td>\n",
       "      <td>USD</td>\n",
       "      <td>0.0</td>\n",
       "      <td>2161558</td>\n",
       "      <td>1289</td>\n",
       "      <td>4.5</td>\n",
       "      <td>4.0</td>\n",
       "      <td>10.23</td>\n",
       "      <td>12+</td>\n",
       "      <td>Photo &amp; Video</td>\n",
       "      <td>37</td>\n",
       "      <td>0</td>\n",
       "      <td>29</td>\n",
       "      <td>1</td>\n",
       "    </tr>\n",
       "    <tr>\n",
       "      <th>2</th>\n",
       "      <td>529479190</td>\n",
       "      <td>Clash of Clans</td>\n",
       "      <td>116476928</td>\n",
       "      <td>USD</td>\n",
       "      <td>0.0</td>\n",
       "      <td>2130805</td>\n",
       "      <td>579</td>\n",
       "      <td>4.5</td>\n",
       "      <td>4.5</td>\n",
       "      <td>9.24.12</td>\n",
       "      <td>9+</td>\n",
       "      <td>Games</td>\n",
       "      <td>38</td>\n",
       "      <td>5</td>\n",
       "      <td>18</td>\n",
       "      <td>1</td>\n",
       "    </tr>\n",
       "    <tr>\n",
       "      <th>3</th>\n",
       "      <td>420009108</td>\n",
       "      <td>Temple Run</td>\n",
       "      <td>65921024</td>\n",
       "      <td>USD</td>\n",
       "      <td>0.0</td>\n",
       "      <td>1724546</td>\n",
       "      <td>3842</td>\n",
       "      <td>4.5</td>\n",
       "      <td>4.0</td>\n",
       "      <td>1.6.2</td>\n",
       "      <td>9+</td>\n",
       "      <td>Games</td>\n",
       "      <td>40</td>\n",
       "      <td>5</td>\n",
       "      <td>1</td>\n",
       "      <td>1</td>\n",
       "    </tr>\n",
       "    <tr>\n",
       "      <th>4</th>\n",
       "      <td>284035177</td>\n",
       "      <td>Pandora - Music &amp; Radio</td>\n",
       "      <td>130242560</td>\n",
       "      <td>USD</td>\n",
       "      <td>0.0</td>\n",
       "      <td>1126879</td>\n",
       "      <td>3594</td>\n",
       "      <td>4.0</td>\n",
       "      <td>4.5</td>\n",
       "      <td>8.4.1</td>\n",
       "      <td>12+</td>\n",
       "      <td>Music</td>\n",
       "      <td>37</td>\n",
       "      <td>4</td>\n",
       "      <td>1</td>\n",
       "      <td>1</td>\n",
       "    </tr>\n",
       "  </tbody>\n",
       "</table>\n",
       "</div>"
      ],
      "text/plain": [
       "          id               track_name  size_bytes currency  price  \\\n",
       "0  284882215                 Facebook   389879808      USD    0.0   \n",
       "1  389801252                Instagram   113954816      USD    0.0   \n",
       "2  529479190           Clash of Clans   116476928      USD    0.0   \n",
       "3  420009108               Temple Run    65921024      USD    0.0   \n",
       "4  284035177  Pandora - Music & Radio   130242560      USD    0.0   \n",
       "\n",
       "   rating_count_tot  rating_count_ver  user_rating  user_rating_ver      ver  \\\n",
       "0           2974676               212          3.5              3.5     95.0   \n",
       "1           2161558              1289          4.5              4.0    10.23   \n",
       "2           2130805               579          4.5              4.5  9.24.12   \n",
       "3           1724546              3842          4.5              4.0    1.6.2   \n",
       "4           1126879              3594          4.0              4.5    8.4.1   \n",
       "\n",
       "  cont_rating        prime_genre  sup_devices.num  ipadSc_urls.num  lang.num  \\\n",
       "0          4+  Social Networking               37                1        29   \n",
       "1         12+      Photo & Video               37                0        29   \n",
       "2          9+              Games               38                5        18   \n",
       "3          9+              Games               40                5         1   \n",
       "4         12+              Music               37                4         1   \n",
       "\n",
       "   vpp_lic  \n",
       "0        1  \n",
       "1        1  \n",
       "2        1  \n",
       "3        1  \n",
       "4        1  "
      ]
     },
     "execution_count": 50,
     "metadata": {},
     "output_type": "execute_result"
    }
   ],
   "source": [
    "df.head()"
   ]
  },
  {
   "cell_type": "code",
   "execution_count": 51,
   "metadata": {
    "id": "YJ0s2ISi7R4g"
   },
   "outputs": [],
   "source": [
    "unqiue_apps_category = set()\n",
    "\n",
    "for app in apps_data[1:]:\n",
    "  category = app[11]\n",
    "\n",
    "  # add category inside set\n",
    "  unqiue_apps_category.add(category)"
   ]
  },
  {
   "cell_type": "code",
   "execution_count": 52,
   "metadata": {
    "colab": {
     "base_uri": "https://localhost:8080/"
    },
    "executionInfo": {
     "elapsed": 50,
     "status": "ok",
     "timestamp": 1751473951411,
     "user": {
      "displayName": "Shahriar Kabir",
      "userId": "14978139010002335779"
     },
     "user_tz": -360
    },
    "id": "kHeTNGi58prr",
    "outputId": "fee9de63-5931-46f5-b0a7-7f6be0d13a37"
   },
   "outputs": [
    {
     "name": "stdout",
     "output_type": "stream",
     "text": [
      "['Book', 'Business', 'Catalogs', 'Education', 'Entertainment', 'Finance', 'Food & Drink', 'Games', 'Health & Fitness', 'Lifestyle', 'Medical', 'Music', 'Navigation', 'News', 'Photo & Video', 'Productivity', 'Reference', 'Shopping', 'Social Networking', 'Sports', 'Travel', 'Utilities', 'Weather']\n"
     ]
    }
   ],
   "source": [
    "print(sorted(unqiue_apps_category))"
   ]
  },
  {
   "cell_type": "code",
   "execution_count": 53,
   "metadata": {
    "colab": {
     "base_uri": "https://localhost:8080/"
    },
    "executionInfo": {
     "elapsed": 50,
     "status": "ok",
     "timestamp": 1751473400607,
     "user": {
      "displayName": "Shahriar Kabir",
      "userId": "14978139010002335779"
     },
     "user_tz": -360
    },
    "id": "oG4R8U2_8tEt",
    "outputId": "461ae273-5c3a-4a0e-debf-400a2473fc34"
   },
   "outputs": [
    {
     "name": "stdout",
     "output_type": "stream",
     "text": [
      "23\n"
     ]
    }
   ],
   "source": [
    "print(len(unqiue_apps_category))"
   ]
  },
  {
   "cell_type": "code",
   "execution_count": 54,
   "metadata": {
    "colab": {
     "base_uri": "https://localhost:8080/"
    },
    "executionInfo": {
     "elapsed": 68,
     "status": "ok",
     "timestamp": 1751473976467,
     "user": {
      "displayName": "Shahriar Kabir",
      "userId": "14978139010002335779"
     },
     "user_tz": -360
    },
    "id": "eqp5Yu2Y80Zu",
    "outputId": "5e211b85-b7dc-4d6f-8e77-d139f2891d6e"
   },
   "outputs": [
    {
     "name": "stdout",
     "output_type": "stream",
     "text": [
      "23\n",
      "['Book', 'Business', 'Catalogs', 'Education', 'Entertainment', 'Finance', 'Food & Drink', 'Games', 'Health & Fitness', 'Lifestyle', 'Medical', 'Music', 'Navigation', 'News', 'Photo & Video', 'Productivity', 'Reference', 'Shopping', 'Social Networking', 'Sports', 'Travel', 'Utilities', 'Weather']\n"
     ]
    }
   ],
   "source": [
    "# for verification purpose\n",
    "print(df['prime_genre'].nunique())\n",
    "print(sorted(df['prime_genre'].unique()))"
   ]
  },
  {
   "cell_type": "code",
   "execution_count": 55,
   "metadata": {
    "id": "7XRtGInY_dJ7"
   },
   "outputs": [],
   "source": [
    "unqiue_cont_rating\t = set()\n",
    "\n",
    "for app in apps_data[1:]:\n",
    "  cont_rating = app[10]\n",
    "  # print(cont_rating)\n",
    "  # add category inside set\n",
    "  unqiue_cont_rating.add(cont_rating)"
   ]
  },
  {
   "cell_type": "code",
   "execution_count": 56,
   "metadata": {
    "colab": {
     "base_uri": "https://localhost:8080/"
    },
    "executionInfo": {
     "elapsed": 59,
     "status": "ok",
     "timestamp": 1751474187207,
     "user": {
      "displayName": "Shahriar Kabir",
      "userId": "14978139010002335779"
     },
     "user_tz": -360
    },
    "id": "lFKjLN9R_UeA",
    "outputId": "d91e7bad-6e72-4bf3-bcd2-2eccb30ca755"
   },
   "outputs": [
    {
     "data": {
      "text/plain": [
       "{'12+', '17+', '4+', '9+'}"
      ]
     },
     "execution_count": 56,
     "metadata": {},
     "output_type": "execute_result"
    }
   ],
   "source": [
    "unqiue_cont_rating"
   ]
  },
  {
   "cell_type": "markdown",
   "metadata": {
    "id": "vXfEfLs77ZYE"
   },
   "source": [
    "\n",
    "\n",
    "```\n",
    "# This is formatted as code\n",
    "```\n",
    "\n"
   ]
  },
  {
   "cell_type": "markdown",
   "metadata": {
    "id": "0-KerZXVMadG"
   },
   "source": [
    "# Function"
   ]
  },
  {
   "cell_type": "code",
   "execution_count": 57,
   "metadata": {
    "colab": {
     "base_uri": "https://localhost:8080/",
     "height": 206
    },
    "executionInfo": {
     "elapsed": 2205,
     "status": "ok",
     "timestamp": 1753028971948,
     "user": {
      "displayName": "Shahriar Kabir",
      "userId": "14978139010002335779"
     },
     "user_tz": -360
    },
    "id": "TNiJRMQfMf93",
    "outputId": "9118265d-94aa-4223-d59a-5f92eeeb5079"
   },
   "outputs": [
    {
     "data": {
      "text/html": [
       "<div>\n",
       "<style scoped>\n",
       "    .dataframe tbody tr th:only-of-type {\n",
       "        vertical-align: middle;\n",
       "    }\n",
       "\n",
       "    .dataframe tbody tr th {\n",
       "        vertical-align: top;\n",
       "    }\n",
       "\n",
       "    .dataframe thead th {\n",
       "        text-align: right;\n",
       "    }\n",
       "</style>\n",
       "<table border=\"1\" class=\"dataframe\">\n",
       "  <thead>\n",
       "    <tr style=\"text-align: right;\">\n",
       "      <th></th>\n",
       "      <th>total_bill</th>\n",
       "      <th>tip</th>\n",
       "      <th>sex</th>\n",
       "      <th>smoker</th>\n",
       "      <th>day</th>\n",
       "      <th>time</th>\n",
       "      <th>size</th>\n",
       "    </tr>\n",
       "  </thead>\n",
       "  <tbody>\n",
       "    <tr>\n",
       "      <th>0</th>\n",
       "      <td>16.99</td>\n",
       "      <td>1.01</td>\n",
       "      <td>Female</td>\n",
       "      <td>No</td>\n",
       "      <td>Sun</td>\n",
       "      <td>Dinner</td>\n",
       "      <td>2</td>\n",
       "    </tr>\n",
       "    <tr>\n",
       "      <th>1</th>\n",
       "      <td>10.34</td>\n",
       "      <td>1.66</td>\n",
       "      <td>Male</td>\n",
       "      <td>No</td>\n",
       "      <td>Sun</td>\n",
       "      <td>Dinner</td>\n",
       "      <td>3</td>\n",
       "    </tr>\n",
       "    <tr>\n",
       "      <th>2</th>\n",
       "      <td>21.01</td>\n",
       "      <td>3.50</td>\n",
       "      <td>Male</td>\n",
       "      <td>No</td>\n",
       "      <td>Sun</td>\n",
       "      <td>Dinner</td>\n",
       "      <td>3</td>\n",
       "    </tr>\n",
       "    <tr>\n",
       "      <th>3</th>\n",
       "      <td>23.68</td>\n",
       "      <td>3.31</td>\n",
       "      <td>Male</td>\n",
       "      <td>No</td>\n",
       "      <td>Sun</td>\n",
       "      <td>Dinner</td>\n",
       "      <td>2</td>\n",
       "    </tr>\n",
       "    <tr>\n",
       "      <th>4</th>\n",
       "      <td>24.59</td>\n",
       "      <td>3.61</td>\n",
       "      <td>Female</td>\n",
       "      <td>No</td>\n",
       "      <td>Sun</td>\n",
       "      <td>Dinner</td>\n",
       "      <td>4</td>\n",
       "    </tr>\n",
       "  </tbody>\n",
       "</table>\n",
       "</div>"
      ],
      "text/plain": [
       "   total_bill   tip     sex smoker  day    time  size\n",
       "0       16.99  1.01  Female     No  Sun  Dinner     2\n",
       "1       10.34  1.66    Male     No  Sun  Dinner     3\n",
       "2       21.01  3.50    Male     No  Sun  Dinner     3\n",
       "3       23.68  3.31    Male     No  Sun  Dinner     2\n",
       "4       24.59  3.61  Female     No  Sun  Dinner     4"
      ]
     },
     "execution_count": 57,
     "metadata": {},
     "output_type": "execute_result"
    }
   ],
   "source": [
    "import pandas as pd\n",
    "import seaborn as sns\n",
    "\n",
    "tips = sns.load_dataset('tips')\n",
    "tips.head()"
   ]
  },
  {
   "cell_type": "code",
   "execution_count": 58,
   "metadata": {
    "id": "obeZ5EsvM9LF"
   },
   "outputs": [],
   "source": [
    "tips_list = tips.values.tolist()"
   ]
  },
  {
   "cell_type": "code",
   "execution_count": 59,
   "metadata": {
    "colab": {
     "base_uri": "https://localhost:8080/"
    },
    "executionInfo": {
     "elapsed": 24,
     "status": "ok",
     "timestamp": 1753029081955,
     "user": {
      "displayName": "Shahriar Kabir",
      "userId": "14978139010002335779"
     },
     "user_tz": -360
    },
    "id": "IhEPNKWqQFkp",
    "outputId": "6b07f481-7382-457f-d011-ac4b4e4c3d52"
   },
   "outputs": [
    {
     "data": {
      "text/plain": [
       "[[16.99, 1.01, 'Female', 'No', 'Sun', 'Dinner', 2],\n",
       " [10.34, 1.66, 'Male', 'No', 'Sun', 'Dinner', 3],\n",
       " [21.01, 3.5, 'Male', 'No', 'Sun', 'Dinner', 3],\n",
       " [23.68, 3.31, 'Male', 'No', 'Sun', 'Dinner', 2]]"
      ]
     },
     "execution_count": 59,
     "metadata": {},
     "output_type": "execute_result"
    }
   ],
   "source": [
    "tips_list[:4]"
   ]
  },
  {
   "cell_type": "code",
   "execution_count": 60,
   "metadata": {
    "colab": {
     "base_uri": "https://localhost:8080/"
    },
    "executionInfo": {
     "elapsed": 9462,
     "status": "ok",
     "timestamp": 1753029625458,
     "user": {
      "displayName": "Shahriar Kabir",
      "userId": "14978139010002335779"
     },
     "user_tz": -360
    },
    "id": "6SO1UsLDQGnN",
    "outputId": "9044ef2f-295c-46f0-ed13-f2a5552fc6ef"
   },
   "outputs": [
    {
     "name": "stdout",
     "output_type": "stream",
     "text": [
      "7.0\n"
     ]
    }
   ],
   "source": [
    "num1 = float(input(\"Enter your first number : \"))\n",
    "num2 = float(input(\"Enter your second number : \"))\n",
    "\n",
    "sum = num1 + num2\n",
    "print(sum)"
   ]
  },
  {
   "cell_type": "code",
   "execution_count": 61,
   "metadata": {
    "id": "-PmvpHM8tKeA"
   },
   "outputs": [],
   "source": [
    "def two_num_sum(num1, num2): #num1=4, num2=2\n",
    "  result = num1 + num2\n",
    "  return result"
   ]
  },
  {
   "cell_type": "code",
   "execution_count": 62,
   "metadata": {
    "colab": {
     "base_uri": "https://localhost:8080/"
    },
    "executionInfo": {
     "elapsed": 55,
     "status": "ok",
     "timestamp": 1753029880957,
     "user": {
      "displayName": "Shahriar Kabir",
      "userId": "14978139010002335779"
     },
     "user_tz": -360
    },
    "id": "aXE8T1WAuHx9",
    "outputId": "e627dd48-06c8-400a-fa19-f706e02c625a"
   },
   "outputs": [
    {
     "data": {
      "text/plain": [
       "92"
      ]
     },
     "execution_count": 62,
     "metadata": {},
     "output_type": "execute_result"
    }
   ],
   "source": [
    "two_num_sum(3, 89)"
   ]
  },
  {
   "cell_type": "code",
   "execution_count": 63,
   "metadata": {
    "colab": {
     "base_uri": "https://localhost:8080/"
    },
    "executionInfo": {
     "elapsed": 52,
     "status": "ok",
     "timestamp": 1753029896747,
     "user": {
      "displayName": "Shahriar Kabir",
      "userId": "14978139010002335779"
     },
     "user_tz": -360
    },
    "id": "wBlk7h0QuSpr",
    "outputId": "4d5f5a9a-536b-4c7a-e4db-0aed19bed46a"
   },
   "outputs": [
    {
     "data": {
      "text/plain": [
       "6"
      ]
     },
     "execution_count": 63,
     "metadata": {},
     "output_type": "execute_result"
    }
   ],
   "source": [
    "two_num_sum(4, 2)  # positional argu"
   ]
  },
  {
   "cell_type": "code",
   "execution_count": 64,
   "metadata": {
    "colab": {
     "base_uri": "https://localhost:8080/"
    },
    "executionInfo": {
     "elapsed": 75,
     "status": "ok",
     "timestamp": 1753030098805,
     "user": {
      "displayName": "Shahriar Kabir",
      "userId": "14978139010002335779"
     },
     "user_tz": -360
    },
    "id": "oJxuU4g_uWgg",
    "outputId": "c34603b3-f666-4635-d927-6a9934a7808d"
   },
   "outputs": [
    {
     "data": {
      "text/plain": [
       "31"
      ]
     },
     "execution_count": 64,
     "metadata": {},
     "output_type": "execute_result"
    }
   ],
   "source": [
    "two_num_sum(num2=9, num1=22)"
   ]
  },
  {
   "cell_type": "code",
   "execution_count": 65,
   "metadata": {
    "id": "rXS67CssvH0u"
   },
   "outputs": [
    {
     "data": {
      "text/plain": [
       "[[16.99, 1.01, 'Female', 'No', 'Sun', 'Dinner', 2],\n",
       " [10.34, 1.66, 'Male', 'No', 'Sun', 'Dinner', 3],\n",
       " [21.01, 3.5, 'Male', 'No', 'Sun', 'Dinner', 3],\n",
       " [23.68, 3.31, 'Male', 'No', 'Sun', 'Dinner', 2]]"
      ]
     },
     "execution_count": 65,
     "metadata": {},
     "output_type": "execute_result"
    }
   ],
   "source": [
    "[[16.99, 1.01, 'Female', 'No', 'Sun', 'Dinner', 2],\n",
    " [10.34, 1.66, 'Male', 'No', 'Sun', 'Dinner', 3],\n",
    " [21.01, 3.5, 'Male', 'No', 'Sun', 'Dinner', 3],\n",
    " [23.68, 3.31, 'Male', 'No', 'Sun', 'Dinner', 2]]"
   ]
  },
  {
   "cell_type": "code",
   "execution_count": 66,
   "metadata": {
    "colab": {
     "base_uri": "https://localhost:8080/"
    },
    "executionInfo": {
     "elapsed": 61,
     "status": "ok",
     "timestamp": 1753030208360,
     "user": {
      "displayName": "Shahriar Kabir",
      "userId": "14978139010002335779"
     },
     "user_tz": -360
    },
    "id": "yRQSocjCvgJF",
    "outputId": "3f89df9d-6756-403e-c414-0e9333bdff67"
   },
   "outputs": [
    {
     "data": {
      "text/plain": [
       "244"
      ]
     },
     "execution_count": 66,
     "metadata": {},
     "output_type": "execute_result"
    }
   ],
   "source": [
    "len(tips_list)"
   ]
  },
  {
   "cell_type": "code",
   "execution_count": 67,
   "metadata": {
    "id": "ObabEqa5viib"
   },
   "outputs": [],
   "source": [
    "time_count = {}\n",
    "\n",
    "for i in tips_list:\n",
    "  time = i[5]\n",
    "\n",
    "  if time in time_count:\n",
    "    time_count[time] += 1  # time_count[time] = time_count[time] + 1\n",
    "  else:\n",
    "    time_count[time] = 1"
   ]
  },
  {
   "cell_type": "code",
   "execution_count": 68,
   "metadata": {
    "colab": {
     "base_uri": "https://localhost:8080/"
    },
    "executionInfo": {
     "elapsed": 55,
     "status": "ok",
     "timestamp": 1753030487211,
     "user": {
      "displayName": "Shahriar Kabir",
      "userId": "14978139010002335779"
     },
     "user_tz": -360
    },
    "id": "2l5ZjDqCwlyJ",
    "outputId": "42f4e8e4-c2aa-4b2c-af73-d77749689e6b"
   },
   "outputs": [
    {
     "data": {
      "text/plain": [
       "{'Dinner': 176, 'Lunch': 68}"
      ]
     },
     "execution_count": 68,
     "metadata": {},
     "output_type": "execute_result"
    }
   ],
   "source": [
    "time_count"
   ]
  },
  {
   "cell_type": "code",
   "execution_count": null,
   "metadata": {
    "id": "9nIlejRexDyV"
   },
   "outputs": [],
   "source": []
  },
  {
   "cell_type": "code",
   "execution_count": 69,
   "metadata": {
    "id": "wdPt_ikJvsqF"
   },
   "outputs": [],
   "source": [
    "day_count = {}\n",
    "\n",
    "for i in tips_list:\n",
    "  day = i[4]\n",
    "\n",
    "  if day in day_count:\n",
    "    day_count[day] += 1  # time_count[time] = time_count[time] + 1\n",
    "  else:\n",
    "    day_count[day] = 1"
   ]
  },
  {
   "cell_type": "code",
   "execution_count": 70,
   "metadata": {
    "colab": {
     "base_uri": "https://localhost:8080/"
    },
    "executionInfo": {
     "elapsed": 65,
     "status": "ok",
     "timestamp": 1753030635754,
     "user": {
      "displayName": "Shahriar Kabir",
      "userId": "14978139010002335779"
     },
     "user_tz": -360
    },
    "id": "AvC62N7Qw5W5",
    "outputId": "90b5b2a6-7c34-488a-838d-be510fe244c0"
   },
   "outputs": [
    {
     "data": {
      "text/plain": [
       "{'Sun': 76, 'Sat': 87, 'Thur': 62, 'Fri': 19}"
      ]
     },
     "execution_count": 70,
     "metadata": {},
     "output_type": "execute_result"
    }
   ],
   "source": [
    "day_count"
   ]
  },
  {
   "cell_type": "code",
   "execution_count": 71,
   "metadata": {
    "id": "UOAS5ZJuw5v2"
   },
   "outputs": [],
   "source": [
    "def calculate_frequency(index, tips):\n",
    "\n",
    "  result = {}\n",
    "\n",
    "  for i in tips:\n",
    "    n = i[index]\n",
    "\n",
    "    if n in result:\n",
    "      result[n] += 1\n",
    "    else:\n",
    "      result[n] = 1\n",
    "\n",
    "  return result"
   ]
  },
  {
   "cell_type": "code",
   "execution_count": 72,
   "metadata": {
    "colab": {
     "base_uri": "https://localhost:8080/"
    },
    "executionInfo": {
     "elapsed": 52,
     "status": "ok",
     "timestamp": 1753030981964,
     "user": {
      "displayName": "Shahriar Kabir",
      "userId": "14978139010002335779"
     },
     "user_tz": -360
    },
    "id": "NMEoyG7Sx381",
    "outputId": "c1c96651-0164-4716-8561-96d339603944"
   },
   "outputs": [
    {
     "data": {
      "text/plain": [
       "{'Female': 87, 'Male': 157}"
      ]
     },
     "execution_count": 72,
     "metadata": {},
     "output_type": "execute_result"
    }
   ],
   "source": [
    "calculate_frequency(2, tips_list)"
   ]
  },
  {
   "cell_type": "code",
   "execution_count": 73,
   "metadata": {
    "id": "KIQgoCwKx-KC"
   },
   "outputs": [],
   "source": [
    "# calculate average\n",
    "def average_value(index, tip_list):\n",
    "  average_val = []\n",
    "\n",
    "  for i in tip_list:\n",
    "    val = float(i[index])\n",
    "\n",
    "    average_val.append(val)\n",
    "\n",
    "\n",
    "  total_val = 0\n",
    "\n",
    "  for v in average_val:\n",
    "    total_val += v\n",
    "\n",
    "  average = total_val/ len(average_val)\n",
    "\n",
    "  return average"
   ]
  },
  {
   "cell_type": "code",
   "execution_count": 74,
   "metadata": {
    "colab": {
     "base_uri": "https://localhost:8080/"
    },
    "executionInfo": {
     "elapsed": 58,
     "status": "ok",
     "timestamp": 1753031557739,
     "user": {
      "displayName": "Shahriar Kabir",
      "userId": "14978139010002335779"
     },
     "user_tz": -360
    },
    "id": "ppSNB79QyJ5-",
    "outputId": "7a07fc91-faf8-4dd2-a8b3-6082c897cde8"
   },
   "outputs": [
    {
     "data": {
      "text/plain": [
       "19.785942622950824"
      ]
     },
     "execution_count": 74,
     "metadata": {},
     "output_type": "execute_result"
    }
   ],
   "source": [
    "# calculate average bill\n",
    "average_value(0, tips_list)"
   ]
  },
  {
   "cell_type": "code",
   "execution_count": 75,
   "metadata": {
    "colab": {
     "base_uri": "https://localhost:8080/"
    },
    "executionInfo": {
     "elapsed": 75,
     "status": "ok",
     "timestamp": 1753031605801,
     "user": {
      "displayName": "Shahriar Kabir",
      "userId": "14978139010002335779"
     },
     "user_tz": -360
    },
    "id": "gv0feY-b0PXW",
    "outputId": "306d800f-1ef1-449b-d383-65dbe47bd115"
   },
   "outputs": [
    {
     "data": {
      "text/plain": [
       "2.9982786885245902"
      ]
     },
     "execution_count": 75,
     "metadata": {},
     "output_type": "execute_result"
    }
   ],
   "source": [
    "# caluclate average tip\n",
    "average_value(1, tips_list)"
   ]
  },
  {
   "cell_type": "code",
   "execution_count": null,
   "metadata": {
    "id": "In-yRrog03u-"
   },
   "outputs": [],
   "source": []
  }
 ],
 "metadata": {
  "colab": {
   "provenance": [
    {
     "file_id": "1EZdv2sX0IHLjM8QYqLBz5kBTY64IJ5We",
     "timestamp": 1753382489243
    }
   ]
  },
  "kernelspec": {
   "display_name": "venv",
   "language": "python",
   "name": "python3"
  },
  "language_info": {
   "codemirror_mode": {
    "name": "ipython",
    "version": 3
   },
   "file_extension": ".py",
   "mimetype": "text/x-python",
   "name": "python",
   "nbconvert_exporter": "python",
   "pygments_lexer": "ipython3",
   "version": "3.13.5"
  }
 },
 "nbformat": 4,
 "nbformat_minor": 0
}
