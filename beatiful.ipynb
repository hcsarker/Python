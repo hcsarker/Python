{
 "cells": [
  {
   "cell_type": "code",
   "execution_count": 36,
   "id": "7b6a1b02",
   "metadata": {},
   "outputs": [],
   "source": [
    "import pandas as pd \n",
    "import numpy as np \n",
    "import matplotlib.pyplot as plt \n",
    "\n",
    "%matplotlib inline \n",
    "\n",
    "from urllib.request import urlopen \n",
    "from bs4 import BeautifulSoup\n",
    "import re"
   ]
  },
  {
   "cell_type": "code",
   "execution_count": 37,
   "id": "5902b6d0",
   "metadata": {},
   "outputs": [],
   "source": [
    "url =\"https://www.hubertiming.com/results/2018MLK\"\n",
    "\n",
    "html=urlopen(url)"
   ]
  },
  {
   "cell_type": "code",
   "execution_count": 38,
   "id": "541b086d",
   "metadata": {},
   "outputs": [],
   "source": [
    "soup = BeautifulSoup(html)"
   ]
  },
  {
   "cell_type": "code",
   "execution_count": 39,
   "id": "ea757635",
   "metadata": {},
   "outputs": [
    {
     "name": "stdout",
     "output_type": "stream",
     "text": [
      "<title>Race results for the 2018 MLK Dream Run!</title>\n",
      "Race results for the 2018 MLK Dream Run!\n"
     ]
    }
   ],
   "source": [
    "title = soup.title\n",
    "print(title)  # <title>\n",
    "print(title.text)"
   ]
  },
  {
   "cell_type": "code",
   "execution_count": 40,
   "id": "34349ebd",
   "metadata": {},
   "outputs": [
    {
     "name": "stdout",
     "output_type": "stream",
     "text": [
      "https://www.mlkdreamrun.com/\n",
      "mailto:timing@hubertiming.com\n",
      "https://www.hubertiming.com\n",
      "/results/2018MLK10K\n",
      "/results/2018MLK15K\n",
      "/results/summary/2018MLK\n",
      "#tabs-1\n",
      "https://www.hubertiming.com/\n",
      "https://facebook.com/hubertiming/\n"
     ]
    }
   ],
   "source": [
    "links = soup.find_all('a', href=True)\n",
    "for link in links:\n",
    "        print(link.get('href'))\n"
   ]
  },
  {
   "cell_type": "code",
   "execution_count": 41,
   "id": "d66db4ae",
   "metadata": {},
   "outputs": [
    {
     "name": "stdout",
     "output_type": "stream",
     "text": [
      "[['190', '2087', '\\r\\n\\r\\n                    LEESHA POSEY\\r\\n\\r\\n                ', 'F', '43', 'PORTLAND', 'OR', '30:17', '1:33:53', '\\r\\n\\r\\n                    112 of 113\\r\\n\\r\\n                ', 'F 40-54', '\\r\\n\\r\\n                    36 of 37\\r\\n\\r\\n                ', '0:00', '1:33:53'], ['191', '1216', '\\r\\n\\r\\n                    ZULMA OCHOA\\r\\n\\r\\n                ', 'F', '40', 'GRESHAM', 'OR', '33:22', '1:43:27', '\\r\\n\\r\\n                    113 of 113\\r\\n\\r\\n                ', 'F 40-54', '\\r\\n\\r\\n                    37 of 37\\r\\n\\r\\n                ', '0:00', '1:43:27']]\n"
     ]
    }
   ],
   "source": [
    "data = []\n",
    "allrows = soup.find_all(\"tr\")\n",
    "for row in allrows:\n",
    "    row_data = row.find_all(\"td\")\n",
    "    dataRow = []\n",
    "    for cell in row_data:\n",
    "        dataRow.append(cell.text)\n",
    "    data.append(dataRow)\n",
    "data = data[4:]  # Skip the header row\n",
    "print(data[-2:])  "
   ]
  },
  {
   "cell_type": "code",
   "execution_count": 42,
   "id": "7e138da4",
   "metadata": {},
   "outputs": [
    {
     "name": "stdout",
     "output_type": "stream",
     "text": [
      "     0     1                                                  2     3     4   \\\n",
      "0  None  None                                               None  None  None   \n",
      "1     1  1191  \\r\\n\\r\\n                    MAX RANDOLPH\\r\\n\\r...     M    29   \n",
      "\n",
      "           5     6     7      8   \\\n",
      "0        None  None  None   None   \n",
      "1  WASHINGTON    DC  5:25  16:48   \n",
      "\n",
      "                                                  9        10  \\\n",
      "0                                               None     None   \n",
      "1  \\r\\n\\r\\n                    1 of 78\\r\\n\\r\\n   ...  M 21-39   \n",
      "\n",
      "                                                  11    12     13  \n",
      "0                                               None  None   None  \n",
      "1  \\r\\n\\r\\n                    1 of 33\\r\\n\\r\\n   ...  0:08  16:56  \n"
     ]
    }
   ],
   "source": [
    "df = pd.DataFrame(data)\n",
    "print(df.head(2))"
   ]
  },
  {
   "cell_type": "code",
   "execution_count": 43,
   "id": "90711c53",
   "metadata": {},
   "outputs": [
    {
     "name": "stdout",
     "output_type": "stream",
     "text": [
      "['Place', 'Bib', 'Name', 'Gender', 'Age', 'City', 'State', 'Chip Pace', 'Time', 'Gender Place', 'Age Group', 'Age Group Place', 'Time to Start', 'Gun Time']\n"
     ]
    }
   ],
   "source": [
    "header_list = []\n",
    "col_headers = soup.find_all(\"th\")\n",
    "for col in col_headers:\n",
    "    header_list.append(col.text)\n",
    "\n",
    "print(header_list)"
   ]
  },
  {
   "cell_type": "code",
   "execution_count": 44,
   "id": "3b72eabb",
   "metadata": {},
   "outputs": [
    {
     "name": "stdout",
     "output_type": "stream",
     "text": [
      "  Place   Bib                                               Name Gender   Age  \\\n",
      "0  None  None                                               None   None  None   \n",
      "1     1  1191  \\r\\n\\r\\n                    MAX RANDOLPH\\r\\n\\r...      M    29   \n",
      "2     2  1080  \\r\\n\\r\\n                    NEED NAME KAISER R...      M    25   \n",
      "3     3  1275  \\r\\n\\r\\n                    DAN FRANEK\\r\\n\\r\\n...      M    52   \n",
      "4     4  1223  \\r\\n\\r\\n                    PAUL TAYLOR\\r\\n\\r\\...      M    54   \n",
      "\n",
      "         City State Chip Pace   Time  \\\n",
      "0        None  None      None   None   \n",
      "1  WASHINGTON    DC      5:25  16:48   \n",
      "2    PORTLAND    OR      5:39  17:31   \n",
      "3    PORTLAND    OR      5:53  18:15   \n",
      "4    PORTLAND    OR      5:58  18:31   \n",
      "\n",
      "                                        Gender Place Age Group  \\\n",
      "0                                               None      None   \n",
      "1  \\r\\n\\r\\n                    1 of 78\\r\\n\\r\\n   ...   M 21-39   \n",
      "2  \\r\\n\\r\\n                    2 of 78\\r\\n\\r\\n   ...   M 21-39   \n",
      "3  \\r\\n\\r\\n                    3 of 78\\r\\n\\r\\n   ...   M 40-54   \n",
      "4  \\r\\n\\r\\n                    4 of 78\\r\\n\\r\\n   ...   M 40-54   \n",
      "\n",
      "                                     Age Group Place Time to Start Gun Time  \n",
      "0                                               None          None     None  \n",
      "1  \\r\\n\\r\\n                    1 of 33\\r\\n\\r\\n   ...          0:08    16:56  \n",
      "2  \\r\\n\\r\\n                    2 of 33\\r\\n\\r\\n   ...          0:09    17:40  \n",
      "3  \\r\\n\\r\\n                    1 of 27\\r\\n\\r\\n   ...          0:07    18:22  \n",
      "4  \\r\\n\\r\\n                    2 of 27\\r\\n\\r\\n   ...          0:07    18:38  \n"
     ]
    }
   ],
   "source": [
    "df.columns = header_list\n",
    "print(df.head())\n"
   ]
  },
  {
   "cell_type": "code",
   "execution_count": 46,
   "id": "cc115378",
   "metadata": {},
   "outputs": [
    {
     "name": "stdout",
     "output_type": "stream",
     "text": [
      "<class 'pandas.core.frame.DataFrame'>\n",
      "RangeIndex: 192 entries, 0 to 191\n",
      "Data columns (total 14 columns):\n",
      " #   Column           Non-Null Count  Dtype \n",
      "---  ------           --------------  ----- \n",
      " 0   Place            191 non-null    object\n",
      " 1   Bib              191 non-null    object\n",
      " 2   Name             191 non-null    object\n",
      " 3   Gender           191 non-null    object\n",
      " 4   Age              191 non-null    object\n",
      " 5   City             191 non-null    object\n",
      " 6   State            191 non-null    object\n",
      " 7   Chip Pace        191 non-null    object\n",
      " 8   Time             191 non-null    object\n",
      " 9   Gender Place     191 non-null    object\n",
      " 10  Age Group        191 non-null    object\n",
      " 11  Age Group Place  191 non-null    object\n",
      " 12  Time to Start    191 non-null    object\n",
      " 13  Gun Time         191 non-null    object\n",
      "dtypes: object(14)\n",
      "memory usage: 21.1+ KB\n"
     ]
    }
   ],
   "source": [
    "df.info()"
   ]
  },
  {
   "cell_type": "code",
   "execution_count": 47,
   "id": "9ecbdef5",
   "metadata": {},
   "outputs": [
    {
     "data": {
      "text/html": [
       "<div>\n",
       "<style scoped>\n",
       "    .dataframe tbody tr th:only-of-type {\n",
       "        vertical-align: middle;\n",
       "    }\n",
       "\n",
       "    .dataframe tbody tr th {\n",
       "        vertical-align: top;\n",
       "    }\n",
       "\n",
       "    .dataframe thead th {\n",
       "        text-align: right;\n",
       "    }\n",
       "</style>\n",
       "<table border=\"1\" class=\"dataframe\">\n",
       "  <thead>\n",
       "    <tr style=\"text-align: right;\">\n",
       "      <th></th>\n",
       "      <th>Place</th>\n",
       "      <th>Bib</th>\n",
       "      <th>Name</th>\n",
       "      <th>Gender</th>\n",
       "      <th>Age</th>\n",
       "      <th>City</th>\n",
       "      <th>State</th>\n",
       "      <th>Chip Pace</th>\n",
       "      <th>Time</th>\n",
       "      <th>Gender Place</th>\n",
       "      <th>Age Group</th>\n",
       "      <th>Age Group Place</th>\n",
       "      <th>Time to Start</th>\n",
       "      <th>Gun Time</th>\n",
       "    </tr>\n",
       "  </thead>\n",
       "  <tbody>\n",
       "    <tr>\n",
       "      <th>count</th>\n",
       "      <td>191</td>\n",
       "      <td>191</td>\n",
       "      <td>191</td>\n",
       "      <td>191</td>\n",
       "      <td>191</td>\n",
       "      <td>191</td>\n",
       "      <td>191</td>\n",
       "      <td>191</td>\n",
       "      <td>191</td>\n",
       "      <td>191</td>\n",
       "      <td>191</td>\n",
       "      <td>191</td>\n",
       "      <td>191</td>\n",
       "      <td>191</td>\n",
       "    </tr>\n",
       "    <tr>\n",
       "      <th>unique</th>\n",
       "      <td>191</td>\n",
       "      <td>191</td>\n",
       "      <td>190</td>\n",
       "      <td>2</td>\n",
       "      <td>55</td>\n",
       "      <td>22</td>\n",
       "      <td>6</td>\n",
       "      <td>152</td>\n",
       "      <td>170</td>\n",
       "      <td>191</td>\n",
       "      <td>9</td>\n",
       "      <td>191</td>\n",
       "      <td>45</td>\n",
       "      <td>178</td>\n",
       "    </tr>\n",
       "    <tr>\n",
       "      <th>top</th>\n",
       "      <td>1</td>\n",
       "      <td>1191</td>\n",
       "      <td>\\r\\n\\r\\n                    UNKNOWN RUNNER SEE...</td>\n",
       "      <td>F</td>\n",
       "      <td></td>\n",
       "      <td>PORTLAND</td>\n",
       "      <td>OR</td>\n",
       "      <td>20:00</td>\n",
       "      <td>25:01</td>\n",
       "      <td>\\r\\n\\r\\n                    1 of 78\\r\\n\\r\\n   ...</td>\n",
       "      <td>F 21-39</td>\n",
       "      <td>\\r\\n\\r\\n                    1 of 33\\r\\n\\r\\n   ...</td>\n",
       "      <td>0:29</td>\n",
       "      <td>27:00</td>\n",
       "    </tr>\n",
       "    <tr>\n",
       "      <th>freq</th>\n",
       "      <td>1</td>\n",
       "      <td>1</td>\n",
       "      <td>2</td>\n",
       "      <td>113</td>\n",
       "      <td>9</td>\n",
       "      <td>130</td>\n",
       "      <td>149</td>\n",
       "      <td>4</td>\n",
       "      <td>2</td>\n",
       "      <td>1</td>\n",
       "      <td>53</td>\n",
       "      <td>1</td>\n",
       "      <td>8</td>\n",
       "      <td>2</td>\n",
       "    </tr>\n",
       "  </tbody>\n",
       "</table>\n",
       "</div>"
      ],
      "text/plain": [
       "       Place   Bib                                               Name Gender  \\\n",
       "count    191   191                                                191    191   \n",
       "unique   191   191                                                190      2   \n",
       "top        1  1191  \\r\\n\\r\\n                    UNKNOWN RUNNER SEE...      F   \n",
       "freq       1     1                                                  2    113   \n",
       "\n",
       "        Age      City State Chip Pace   Time  \\\n",
       "count   191       191   191       191    191   \n",
       "unique   55        22     6       152    170   \n",
       "top          PORTLAND    OR     20:00  25:01   \n",
       "freq      9       130   149         4      2   \n",
       "\n",
       "                                             Gender Place Age Group  \\\n",
       "count                                                 191       191   \n",
       "unique                                                191         9   \n",
       "top     \\r\\n\\r\\n                    1 of 78\\r\\n\\r\\n   ...   F 21-39   \n",
       "freq                                                    1        53   \n",
       "\n",
       "                                          Age Group Place Time to Start  \\\n",
       "count                                                 191           191   \n",
       "unique                                                191            45   \n",
       "top     \\r\\n\\r\\n                    1 of 33\\r\\n\\r\\n   ...          0:29   \n",
       "freq                                                    1             8   \n",
       "\n",
       "       Gun Time  \n",
       "count       191  \n",
       "unique      178  \n",
       "top       27:00  \n",
       "freq          2  "
      ]
     },
     "execution_count": 47,
     "metadata": {},
     "output_type": "execute_result"
    }
   ],
   "source": [
    "df.describe(include='all')"
   ]
  },
  {
   "cell_type": "code",
   "execution_count": 48,
   "id": "9309b166",
   "metadata": {},
   "outputs": [
    {
     "data": {
      "text/plain": [
       "(192, 14)"
      ]
     },
     "execution_count": 48,
     "metadata": {},
     "output_type": "execute_result"
    }
   ],
   "source": [
    "df.shape\n"
   ]
  },
  {
   "cell_type": "code",
   "execution_count": 49,
   "id": "ec3198f6",
   "metadata": {},
   "outputs": [
    {
     "data": {
      "text/plain": [
       "(191, 14)"
      ]
     },
     "execution_count": 49,
     "metadata": {},
     "output_type": "execute_result"
    }
   ],
   "source": [
    "df2 = df.dropna(how ='any')\n",
    "df2.shape"
   ]
  },
  {
   "cell_type": "code",
   "execution_count": 58,
   "id": "344df3d4",
   "metadata": {},
   "outputs": [
    {
     "name": "stdout",
     "output_type": "stream",
     "text": [
      "<class 'pandas.core.frame.DataFrame'>\n",
      "Index: 191 entries, 1 to 191\n",
      "Data columns (total 1 columns):\n",
      " #   Column    Non-Null Count  Dtype  \n",
      "---  ------    --------------  -----  \n",
      " 0   chiptime  39 non-null     float64\n",
      "dtypes: float64(1)\n",
      "memory usage: 3.0 KB\n",
      "1    NaN\n",
      "2    NaN\n",
      "3    NaN\n",
      "4    NaN\n",
      "5    NaN\n",
      "6    NaN\n",
      "7    NaN\n",
      "8    NaN\n",
      "9    NaN\n",
      "10   NaN\n",
      "Name: chiptime, dtype: float64\n"
     ]
    },
    {
     "name": "stderr",
     "output_type": "stream",
     "text": [
      "/tmp/ipykernel_24244/2293750449.py:1: SettingWithCopyWarning: \n",
      "A value is trying to be set on a copy of a slice from a DataFrame.\n",
      "Try using .loc[row_indexer,col_indexer] = value instead\n",
      "\n",
      "See the caveats in the documentation: https://pandas.pydata.org/pandas-docs/stable/user_guide/indexing.html#returning-a-view-versus-a-copy\n",
      "  df2['chiptime'] = pd.to_timedelta(df2['Time'] , errors='coerce')\n",
      "/tmp/ipykernel_24244/2293750449.py:2: SettingWithCopyWarning: \n",
      "A value is trying to be set on a copy of a slice from a DataFrame.\n",
      "Try using .loc[row_indexer,col_indexer] = value instead\n",
      "\n",
      "See the caveats in the documentation: https://pandas.pydata.org/pandas-docs/stable/user_guide/indexing.html#returning-a-view-versus-a-copy\n",
      "  df2['chiptime'] = df2['chiptime'].dt.total_seconds() / 60\n"
     ]
    }
   ],
   "source": [
    "df2['chiptime'] = pd.to_timedelta(df2['Time'] , errors='coerce')\n",
    "df2['chiptime'] = df2['chiptime'].dt.total_seconds() / 60\n",
    "df2[['chiptime']].info()\n",
    "\n",
    "print(df2['chiptime'].head(10)) \n"
   ]
  },
  {
   "cell_type": "code",
   "execution_count": 60,
   "id": "c4621ec7",
   "metadata": {},
   "outputs": [
    {
     "data": {
      "image/png": "[encoded data removed]",
      "text/plain": [
       "<Figure size 640x480 with 1 Axes>"
      ]
     },
     "metadata": {},
     "output_type": "display_data"
    }
   ],
   "source": [
    "plt.bar(df2['Gender'], df2['chiptime']) \n",
    "plt.xlabel('Gender')\n",
    "plt.ylabel('chiptime')\n",
    "plt.title('Chip Time by Gender')\n",
    "plt.show()"
   ]
  },
  {
   "cell_type": "code",
   "execution_count": 59,
   "id": "06ab1792",
   "metadata": {},
   "outputs": [
    {
     "data": {
      "text/html": [
       "<div>\n",
       "<style scoped>\n",
       "    .dataframe tbody tr th:only-of-type {\n",
       "        vertical-align: middle;\n",
       "    }\n",
       "\n",
       "    .dataframe tbody tr th {\n",
       "        vertical-align: top;\n",
       "    }\n",
       "\n",
       "    .dataframe thead th {\n",
       "        text-align: right;\n",
       "    }\n",
       "</style>\n",
       "<table border=\"1\" class=\"dataframe\">\n",
       "  <thead>\n",
       "    <tr style=\"text-align: right;\">\n",
       "      <th></th>\n",
       "      <th>chiptime</th>\n",
       "    </tr>\n",
       "  </thead>\n",
       "  <tbody>\n",
       "    <tr>\n",
       "      <th>count</th>\n",
       "      <td>39.000000</td>\n",
       "    </tr>\n",
       "    <tr>\n",
       "      <th>mean</th>\n",
       "      <td>64.243162</td>\n",
       "    </tr>\n",
       "    <tr>\n",
       "      <th>std</th>\n",
       "      <td>8.482094</td>\n",
       "    </tr>\n",
       "    <tr>\n",
       "      <th>min</th>\n",
       "      <td>60.016667</td>\n",
       "    </tr>\n",
       "    <tr>\n",
       "      <th>25%</th>\n",
       "      <td>60.800000</td>\n",
       "    </tr>\n",
       "    <tr>\n",
       "      <th>50%</th>\n",
       "      <td>62.016667</td>\n",
       "    </tr>\n",
       "    <tr>\n",
       "      <th>75%</th>\n",
       "      <td>63.016667</td>\n",
       "    </tr>\n",
       "    <tr>\n",
       "      <th>max</th>\n",
       "      <td>103.450000</td>\n",
       "    </tr>\n",
       "  </tbody>\n",
       "</table>\n",
       "</div>"
      ],
      "text/plain": [
       "         chiptime\n",
       "count   39.000000\n",
       "mean    64.243162\n",
       "std      8.482094\n",
       "min     60.016667\n",
       "25%     60.800000\n",
       "50%     62.016667\n",
       "75%     63.016667\n",
       "max    103.450000"
      ]
     },
     "execution_count": 59,
     "metadata": {},
     "output_type": "execute_result"
    }
   ],
   "source": [
    "df2.describe(include=[np.number])"
   ]
  },
  {
   "cell_type": "code",
   "execution_count": 64,
   "id": "de6cf310",
   "metadata": {},
   "outputs": [
    {
     "data": {
      "text/plain": [
       "Text(0, 0.5, 'Run Time (minutes) ')"
      ]
     },
     "execution_count": 64,
     "metadata": {},
     "output_type": "execute_result"
    },
    {
     "data": {
      "image/png": "[encoded data removed]",
      "text/plain": [
       "<Figure size 640x480 with 1 Axes>"
      ]
     },
     "metadata": {},
     "output_type": "display_data"
    }
   ],
   "source": [
    "df2.boxplot(column='chiptime', by='Gender')\n",
    "plt.ylabel('Run Time (minutes) ')"
   ]
  },
  {
   "cell_type": "code",
   "execution_count": 70,
   "id": "0a5a9b91",
   "metadata": {},
   "outputs": [
    {
     "name": "stderr",
     "output_type": "stream",
     "text": [
      "/tmp/ipykernel_24244/3765378589.py:1: SettingWithCopyWarning: \n",
      "A value is trying to be set on a copy of a slice from a DataFrame.\n",
      "Try using .loc[row_indexer,col_indexer] = value instead\n",
      "\n",
      "See the caveats in the documentation: https://pandas.pydata.org/pandas-docs/stable/user_guide/indexing.html#returning-a-view-versus-a-copy\n",
      "  df2['Age_i'] = round(pd.to_numeric(df2['Age'], errors='coerce'))\n",
      "/tmp/ipykernel_24244/3765378589.py:2: SettingWithCopyWarning: \n",
      "A value is trying to be set on a copy of a slice from a DataFrame\n",
      "\n",
      "See the caveats in the documentation: https://pandas.pydata.org/pandas-docs/stable/user_guide/indexing.html#returning-a-view-versus-a-copy\n",
      "  df2.dropna(how='any', inplace=True)\n"
     ]
    },
    {
     "data": {
      "image/png": "[encoded data removed]",
      "text/plain": [
       "<Figure size 640x480 with 1 Axes>"
      ]
     },
     "metadata": {},
     "output_type": "display_data"
    }
   ],
   "source": [
    "df2['Age_i'] = round(pd.to_numeric(df2['Age'], errors='coerce'))\n",
    "df2.dropna(how='any', inplace=True)\n",
    "\n",
    "plt.scatter(df2['chiptime'], df2['Age_i'])\n",
    "plt.show()"
   ]
  },
  {
   "cell_type": "code",
   "execution_count": null,
   "id": "83a12c3f",
   "metadata": {},
   "outputs": [],
   "source": []
  }
 ],
 "metadata": {
  "kernelspec": {
   "display_name": "venv",
   "language": "python",
   "name": "python3"
  },
  "language_info": {
   "codemirror_mode": {
    "name": "ipython",
    "version": 3
   },
   "file_extension": ".py",
   "mimetype": "text/x-python",
   "name": "python",
   "nbconvert_exporter": "python",
   "pygments_lexer": "ipython3",
   "version": "3.13.5"
  }
 },
 "nbformat": 4,
 "nbformat_minor": 5
}
