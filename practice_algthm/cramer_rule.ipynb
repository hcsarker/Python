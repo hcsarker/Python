{
 "cells": [
  {
   "cell_type": "code",
   "execution_count": 1,
   "id": "012f9757",
   "metadata": {},
   "outputs": [],
   "source": [
    "import numpy as np"
   ]
  },
  {
   "cell_type": "code",
   "execution_count": 2,
   "id": "0587fc30",
   "metadata": {},
   "outputs": [],
   "source": [
    "\n",
    "# Example system:\n",
    "# 2x + y - z = 8\n",
    "# -3x - y + 2z = -11\n",
    "# -2x + y + 2z = -3"
   ]
  },
  {
   "cell_type": "code",
   "execution_count": 3,
   "id": "dc39c952",
   "metadata": {},
   "outputs": [],
   "source": [
    "\n",
    "A = np.array([[2, 1, -1],\n",
    "              [-3, -1, 2],\n",
    "              [-2, 1, 2]])\n",
    "\n",
    "B = np.array([8, -11, -3])\n"
   ]
  },
  {
   "cell_type": "code",
   "execution_count": 4,
   "id": "b20e5562",
   "metadata": {},
   "outputs": [],
   "source": [
    "\n",
    "# Determinant of A\n",
    "D = np.linalg.det(A)"
   ]
  },
  {
   "cell_type": "code",
   "execution_count": 9,
   "id": "fe20550e",
   "metadata": {},
   "outputs": [
    {
     "name": "stdout",
     "output_type": "stream",
     "text": [
      "Solution: x = 2.000, y = 3.000, z = -1.000\n"
     ]
    }
   ],
   "source": [
    "\n",
    "if D == 0:\n",
    "    print(\"No unique solution (determinant is 0)\")\n",
    "else:\n",
    "    # Compute Dx, Dy, Dz\n",
    "    Dx = np.copy(A)\n",
    "    Dx[:, 0] = B\n",
    "    Dy = np.copy(A)\n",
    "    Dy[:, 1] = B\n",
    "    Dz = np.copy(A)\n",
    "    Dz[:, 2] = B\n",
    "\n",
    "    x = np.linalg.det(Dx) / D\n",
    "    y = np.linalg.det(Dy) / D\n",
    "    z = np.linalg.det(Dz) / D\n",
    "\n",
    "print(f\"Solution: x = {x:.3f}, y = {y:.3f}, z = {z:.3f}\")"
   ]
  }
 ],
 "metadata": {
  "kernelspec": {
   "display_name": "venv",
   "language": "python",
   "name": "python3"
  },
  "language_info": {
   "codemirror_mode": {
    "name": "ipython",
    "version": 3
   },
   "file_extension": ".py",
   "mimetype": "text/x-python",
   "name": "python",
   "nbconvert_exporter": "python",
   "pygments_lexer": "ipython3",
   "version": "3.13.5"
  }
 },
 "nbformat": 4,
 "nbformat_minor": 5
}
