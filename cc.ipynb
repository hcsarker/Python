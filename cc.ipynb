{
 "cells": [
  {
   "cell_type": "code",
   "execution_count": 1,
   "id": "36099035",
   "metadata": {},
   "outputs": [
    {
     "name": "stdout",
     "output_type": "stream",
     "text": [
      "4\n"
     ]
    }
   ],
   "source": [
    "print(2+2)"
   ]
  },
  {
   "cell_type": "code",
   "execution_count": 2,
   "id": "19bbb4b0",
   "metadata": {},
   "outputs": [
    {
     "name": "stdout",
     "output_type": "stream",
     "text": [
      "NumPy test: [2 4 6]\n"
     ]
    }
   ],
   "source": [
    "import numpy as np\n",
    "print(\"NumPy test:\", np.array([1, 2, 3]) * 2)\n"
   ]
  },
  {
   "cell_type": "code",
   "execution_count": 3,
   "id": "67f85fba",
   "metadata": {},
   "outputs": [
    {
     "name": "stdout",
     "output_type": "stream",
     "text": [
      "SciPy Mode: ModeResult(mode=array([4]), count=array([3]))\n"
     ]
    }
   ],
   "source": [
    "# ✅ SciPy Test\n",
    "from scipy import stats\n",
    "data = [2, 4, 4, 4, 5, 5, 7, 9]\n",
    "print(\"SciPy Mode:\", stats.mode(data, keepdims=True))"
   ]
  },
  {
   "cell_type": "code",
   "execution_count": 4,
   "id": "4643cb4c",
   "metadata": {},
   "outputs": [
    {
     "name": "stdout",
     "output_type": "stream",
     "text": [
      "NumPy Array: [1 2 3 4 5]\n",
      "NumPy Mean: 3.0\n"
     ]
    }
   ],
   "source": [
    "# ✅ NumPy Test\n",
    "import numpy as np\n",
    "arr = np.array([1, 2, 3, 4, 5])\n",
    "print(\"NumPy Array:\", arr)\n",
    "print(\"NumPy Mean:\", np.mean(arr))\n"
   ]
  },
  {
   "cell_type": "code",
   "execution_count": 5,
   "id": "8664c010",
   "metadata": {},
   "outputs": [
    {
     "data": {
      "image/png": "[encoded data removed]",
      "text/plain": [
       "<Figure size 640x480 with 1 Axes>"
      ]
     },
     "metadata": {},
     "output_type": "display_data"
    }
   ],
   "source": [
    "# ✅ Matplotlib Test\n",
    "import matplotlib.pyplot as plt\n",
    "plt.plot([1, 2, 3], [1, 4, 9], label=\"y = x^2\")\n",
    "plt.title(\"Matplotlib Test\")\n",
    "plt.legend()\n",
    "plt.show()\n",
    "#plt.savefig(\"matplotlib_test.png\")  # Save plot as image\n",
    "#print(\"Matplotlib plot saved as matplotlib_test.png\")\n"
   ]
  },
  {
   "cell_type": "code",
   "execution_count": 6,
   "id": "1d0e367e",
   "metadata": {},
   "outputs": [
    {
     "name": "stdout",
     "output_type": "stream",
     "text": [
      "Scikit-learn Prediction for x=6: [29.]\n"
     ]
    }
   ],
   "source": [
    "# ✅ Scikit-learn Test\n",
    "from sklearn.linear_model import LinearRegression\n",
    "model = LinearRegression()\n",
    "X = np.array([[1], [2], [3], [4], [5]])\n",
    "y = np.array([1, 4, 9, 16, 25])\n",
    "model.fit(X, y)\n",
    "prediction = model.predict([[6]])\n",
    "print(\"Scikit-learn Prediction for x=6:\", prediction)\n",
    "\n",
    "\n"
   ]
  },
  {
   "cell_type": "code",
   "execution_count": 7,
   "id": "49f2d24e",
   "metadata": {},
   "outputs": [
    {
     "name": "stdout",
     "output_type": "stream",
     "text": [
      "BeautifulSoup Extracted Text: Hello World\n"
     ]
    }
   ],
   "source": [
    "# ✅ BeautifulSoup Test\n",
    "from bs4 import BeautifulSoup\n",
    "html = \"<html><body><h1>Hello World</h1></body></html>\"\n",
    "soup = BeautifulSoup(html, \"html.parser\")\n",
    "print(\"BeautifulSoup Extracted Text:\", soup.h1.text)"
   ]
  },
  {
   "cell_type": "code",
   "execution_count": 9,
   "id": "6e77ae18",
   "metadata": {},
   "outputs": [
    {
     "name": "stdout",
     "output_type": "stream",
     "text": [
      "Pandas DataFrame:\n",
      "       Name  Age\n",
      "0    Alice   25\n",
      "1      Bob   30\n",
      "2  Charlie   35\n"
     ]
    }
   ],
   "source": [
    "# ✅ Pandas Test\n",
    "import pandas as pd\n",
    "data = {'Name': ['Alice', 'Bob', 'Charlie'], 'Age': [25, 30, 35]}\n",
    "df = pd.DataFrame(data) \n",
    "print(\"Pandas DataFrame:\\n\", df)\n"
   ]
  },
  {
   "cell_type": "code",
   "execution_count": null,
   "id": "3000d844",
   "metadata": {},
   "outputs": [],
   "source": []
  }
 ],
 "metadata": {
  "kernelspec": {
   "display_name": "venv",
   "language": "python",
   "name": "python3"
  },
  "language_info": {
   "codemirror_mode": {
    "name": "ipython",
    "version": 3
   },
   "file_extension": ".py",
   "mimetype": "text/x-python",
   "name": "python",
   "nbconvert_exporter": "python",
   "pygments_lexer": "ipython3",
   "version": "3.13.5"
  }
 },
 "nbformat": 4,
 "nbformat_minor": 5
}
